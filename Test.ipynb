{
 "cells": [
  {
   "cell_type": "code",
   "execution_count": 1,
   "id": "c3110425-77ab-4f8a-b103-abe4a6c7b040",
   "metadata": {},
   "outputs": [
    {
     "name": "stderr",
     "output_type": "stream",
     "text": [
      "[nltk_data] Downloading collection 'popular'\n",
      "[nltk_data]    | \n",
      "[nltk_data]    | Downloading package cmudict to\n",
      "[nltk_data]    |     /home/cypherousskies/nltk_data...\n",
      "[nltk_data]    |   Package cmudict is already up-to-date!\n",
      "[nltk_data]    | Downloading package gazetteers to\n",
      "[nltk_data]    |     /home/cypherousskies/nltk_data...\n",
      "[nltk_data]    |   Package gazetteers is already up-to-date!\n",
      "[nltk_data]    | Downloading package genesis to\n",
      "[nltk_data]    |     /home/cypherousskies/nltk_data...\n",
      "[nltk_data]    |   Package genesis is already up-to-date!\n",
      "[nltk_data]    | Downloading package gutenberg to\n",
      "[nltk_data]    |     /home/cypherousskies/nltk_data...\n",
      "[nltk_data]    |   Package gutenberg is already up-to-date!\n",
      "[nltk_data]    | Downloading package inaugural to\n",
      "[nltk_data]    |     /home/cypherousskies/nltk_data...\n",
      "[nltk_data]    |   Package inaugural is already up-to-date!\n",
      "[nltk_data]    | Downloading package movie_reviews to\n",
      "[nltk_data]    |     /home/cypherousskies/nltk_data...\n",
      "[nltk_data]    |   Package movie_reviews is already up-to-date!\n",
      "[nltk_data]    | Downloading package names to\n",
      "[nltk_data]    |     /home/cypherousskies/nltk_data...\n",
      "[nltk_data]    |   Package names is already up-to-date!\n",
      "[nltk_data]    | Downloading package shakespeare to\n",
      "[nltk_data]    |     /home/cypherousskies/nltk_data...\n",
      "[nltk_data]    |   Package shakespeare is already up-to-date!\n",
      "[nltk_data]    | Downloading package stopwords to\n",
      "[nltk_data]    |     /home/cypherousskies/nltk_data...\n",
      "[nltk_data]    |   Package stopwords is already up-to-date!\n",
      "[nltk_data]    | Downloading package treebank to\n",
      "[nltk_data]    |     /home/cypherousskies/nltk_data...\n",
      "[nltk_data]    |   Package treebank is already up-to-date!\n",
      "[nltk_data]    | Downloading package twitter_samples to\n",
      "[nltk_data]    |     /home/cypherousskies/nltk_data...\n",
      "[nltk_data]    |   Package twitter_samples is already up-to-date!\n",
      "[nltk_data]    | Downloading package omw to\n",
      "[nltk_data]    |     /home/cypherousskies/nltk_data...\n",
      "[nltk_data]    |   Package omw is already up-to-date!\n",
      "[nltk_data]    | Downloading package wordnet to\n",
      "[nltk_data]    |     /home/cypherousskies/nltk_data...\n",
      "[nltk_data]    |   Package wordnet is already up-to-date!\n",
      "[nltk_data]    | Downloading package wordnet_ic to\n",
      "[nltk_data]    |     /home/cypherousskies/nltk_data...\n",
      "[nltk_data]    |   Package wordnet_ic is already up-to-date!\n",
      "[nltk_data]    | Downloading package words to\n",
      "[nltk_data]    |     /home/cypherousskies/nltk_data...\n",
      "[nltk_data]    |   Package words is already up-to-date!\n",
      "[nltk_data]    | Downloading package maxent_ne_chunker to\n",
      "[nltk_data]    |     /home/cypherousskies/nltk_data...\n",
      "[nltk_data]    |   Package maxent_ne_chunker is already up-to-date!\n",
      "[nltk_data]    | Downloading package punkt to\n",
      "[nltk_data]    |     /home/cypherousskies/nltk_data...\n",
      "[nltk_data]    |   Package punkt is already up-to-date!\n",
      "[nltk_data]    | Downloading package snowball_data to\n",
      "[nltk_data]    |     /home/cypherousskies/nltk_data...\n"
     ]
    },
    {
     "name": "stdout",
     "output_type": "stream",
     "text": [
      "> NLTK setup\n"
     ]
    },
    {
     "name": "stderr",
     "output_type": "stream",
     "text": [
      "[nltk_data]    |   Package snowball_data is already up-to-date!\n",
      "[nltk_data]    | Downloading package averaged_perceptron_tagger to\n",
      "[nltk_data]    |     /home/cypherousskies/nltk_data...\n",
      "[nltk_data]    |   Package averaged_perceptron_tagger is already up-\n",
      "[nltk_data]    |       to-date!\n",
      "[nltk_data]    | \n",
      "[nltk_data]  Done downloading collection popular\n"
     ]
    }
   ],
   "source": [
    "import text"
   ]
  },
  {
   "cell_type": "code",
   "execution_count": 6,
   "id": "6e0f51c4-1e17-4734-a1c0-eaae08712b04",
   "metadata": {},
   "outputs": [
    {
     "name": "stderr",
     "output_type": "stream",
     "text": [
      "Some layers from the model checkpoint at distilbert-base-multilingual-cased were not used when initializing TFDistilBertForMaskedLM: ['activation_13']\n",
      "- This IS expected if you are initializing TFDistilBertForMaskedLM from the checkpoint of a model trained on another task or with another architecture (e.g. initializing a BertForSequenceClassification model from a BertForPreTraining model).\n",
      "- This IS NOT expected if you are initializing TFDistilBertForMaskedLM from the checkpoint of a model that you expect to be exactly identical (initializing a BertForSequenceClassification model from a BertForSequenceClassification model).\n",
      "All the layers of TFDistilBertForMaskedLM were initialized from the model checkpoint at distilbert-base-multilingual-cased.\n",
      "If your task is similar to the task the model of the checkpoint was trained on, you can already use TFDistilBertForMaskedLM for predictions without further training.\n"
     ]
    },
    {
     "name": "stdout",
     "output_type": "stream",
     "text": [
      "> BERT loaded\n"
     ]
    }
   ],
   "source": [
    "tf = text.TextProcessor()\n",
    "inpdf = \"in/photog/Chroma_On_Seeing Red.pdf\" #\"in/ds.pdf\"\n",
    "sesspath = \"in/\""
   ]
  },
  {
   "cell_type": "code",
   "execution_count": null,
   "id": "780f3944-0362-4ad2-b06a-9ba531963c85",
   "metadata": {},
   "outputs": [
    {
     "name": "stdout",
     "output_type": "stream",
     "text": [
      "> loading in/photog/Chroma_On_Seeing Red.pdf\n"
     ]
    },
    {
     "name": "stderr",
     "output_type": "stream",
     "text": [
      "Scanning contents: 100%|██████████| 7/7 [00:00<00:00, 10.20page/s]\n",
      "OCR: 100%|██████████| 7.0/7.0 [00:25<00:00,  3.68s/page]\n",
      "PDF/A conversion: 100%|██████████| 7/7 [00:03<00:00,  2.53page/s]Some input metadata could not be copied because it is not permitted in PDF/A. You may wish to examine the output PDF's XMP metadata.\n",
      "PDF/A conversion: 100%|██████████| 7/7 [00:03<00:00,  1.76page/s]\n",
      "JPEGs: 0image [00:00, ?image/s]\n",
      "JBIG2: 0item [00:00, ?item/s]\n"
     ]
    },
    {
     "name": "stdout",
     "output_type": "stream",
     "text": [
      "xpected there will be fifty\n",
      "reds in their minds, a --- \n",
      "> processing 2\n",
      "> removing names and places\n",
      "['Zuassa', 'virus’', '‘Oh', 'assimilationists', 'ing', '‘out', 'myself;', 'plexion', 'ers', '1960s', 'beds;', 'ter', '‘Onward', 'Colour', 'Bedlem', 'de', 'learnt', '‘My', 'Mammas', '‘Rubia’', 'fuchsin', 'sulphide', '‘Derek', 'Chevreul', 'Albers', 'al', '‘That', 'grammes', 'gers', 'LETTE', 'XANTHOSIS', 'uroboros', 'ALIZARIN', '‘sight', 'Red’', 'tirely', 'Mediter', 'Eee', 'Internationale’', 'Reindeer’', '‘There', '£250', 'humours', 'choller', 'Crampnel', 'Fraternité', 'cours', 'pelargonium', 'Vin', 'BETRAY;', 'sacri', 'ness', '‘Never', 'pital', 'Sanguis', 'IOSIS', '‘What', 'mitted', 'legisla', '‘And', 'selenide', 'sulpho', 'MELANOSIS', 'Wassily', 'Kraka', 'Quant', 'toa', 'rei', 'field’', 'troduced', 'fice', 'gingerbits', 'gothic', 'nitre', 'malveine', '‘Where', 'Gules', '‘the', '‘sandarach’', 'Phry', 'REDgrave', 'liberta', 'LLEUCOSIS', 'oeil', 'draconis', 'pelargoniums', 'tetroxide', 'cicatrise', 'busi', 'baldi', 'kimiya', '‘Rudolph', 'Bc', 'ficed', 'Dunge', 'Artz', '‘The', 'pharmakon', 'Khem', 'Ivy’', 'Red;', 'megalo', 'tionals', 'Gari', 'secondarium', 'rudhira', '£10', 'Eugéne', 'dyestuffs', 'coloured', 'li', 'Santo', 'Garance;', 'plasters;', 'colour', 'blanche', 'multina', 'mind’', ';Teddish', 'Egalité', 'red;', 'chroma', '1980s', 'tinctorum', 'ceptible', 'theatre', 'gian', 'rus', 'Soldiers’', 'minium', '’m', 'colours', 'dustry', '‘Liberté', 'grey', 'alchemic', 'ccc', 'P&O', 'ie', 'ranean', 'circum', 'CHROMA', 'blues;', 'England;', 'dyers’', 'artists’']\n"
     ]
    }
   ],
   "source": [
    "txts = tf.loadtext(inpdf,sesspath)\n",
    "print(txts)"
   ]
  },
  {
   "cell_type": "code",
   "execution_count": null,
   "id": "baa12e6d-a432-453d-96af-1deba3988de7",
   "metadata": {},
   "outputs": [],
   "source": [
    "with open(\"out/dso.txt\",\"a\") as f:\n",
    "    f.write(txts[0])"
   ]
  }
 ],
 "metadata": {
  "kernelspec": {
   "display_name": "Python [conda env:pdf-to-speech]",
   "language": "python",
   "name": "conda-env-pdf-to-speech-py"
  },
  "language_info": {
   "codemirror_mode": {
    "name": "ipython",
    "version": 3
   },
   "file_extension": ".py",
   "mimetype": "text/x-python",
   "name": "python",
   "nbconvert_exporter": "python",
   "pygments_lexer": "ipython3",
   "version": "3.8.8"
  }
 },
 "nbformat": 4,
 "nbformat_minor": 5
}
